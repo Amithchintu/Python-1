{
 "cells": [
  {
   "cell_type": "markdown",
   "id": "1c8ad67b-77ae-448f-b49b-631ec5892a2d",
   "metadata": {},
   "source": [
    "# 1. Explain the key features of Python that make it a popular choice for programming.\n",
    "\n",
    "# Key Features of Python that makes it propular in the industry\n",
    "\n",
    "# 1. Easy to Learn and Use\n",
    "Python has a simple and straightforward syntax, making it easy to learn and use. This readability reduces the cost of program maintenance and allows developers to focus on solving problems rather than understanding complex syntax.\n",
    "\n",
    "# 2. Free and Open Source\n",
    "Python is freely available for everyone to use. It is open-source, meaning its source code is accessible to the public, allowing for modifications and distribution.\n",
    "\n",
    "# 3. Extensive Standard Library\n",
    "Python comes with a vast standard library that includes modules and packages for various tasks, such as web development, data analysis, machine learning, and more. This reduces the need to write code from scratch.\n",
    "\n",
    "# 4. Cross-Platform Compatibility\n",
    "Python is a portable language, meaning code written on one platform (e.g., Windows) can run on other platforms (e.g., Linux, macOS) without modification.\n",
    "\n",
    "# 5. Interpreted Language\n",
    "Python is an interpreted language, which means code is executed line by line. This makes debugging easier and allows for interactive testing and development.\n",
    "\n",
    "# 6. Object-Oriented and Procedural Programming\n",
    "Python supports both object-oriented and procedural programming paradigms, providing flexibility in how you structure your code.\n",
    "\n",
    "# 7. Dynamic Typing\n",
    "In Python, you don't need to declare the type of a variable. The type is determined at runtime, which simplifies coding and reduces the amount of boilerplate code.\n",
    "\n",
    "# 8. Large Community and Support\n",
    "Python has a large and active community. This means plenty of resources, such as tutorials, documentation, and forums, are available to help you learn and troubleshoot issues.\n",
    "\n",
    "# 9. Versatility\n",
    "Python is used in various domains, including web development, data science, artificial intelligence, scientific computing, and more. Its versatility makes it a go-to language for many applications.\n",
    "\n",
    "# 10. GUI Programming Support\n",
    "Python supports GUI (Graphical User Interface) programming, allowing developers to create desktop applications. Libraries like Tkinter, PyQt, and wxPython facilitate GUI development.\n",
    "\n",
    "# 11. Integration Capabilities\n",
    "Python can easily integrate with other languages like C, C++, and Java, making it a powerful tool for various applications."
   ]
  },
  {
   "cell_type": "markdown",
   "id": "90498267-a5fc-48d0-9729-0026287c0992",
   "metadata": {},
   "source": [
    "# 2. Describe the role of predefined keywords in Python and provide examples of how they are used in a program.\n",
    "\n",
    "# keywords are predefined words that hold a special meaning and have specific purpose in python\n",
    "\n",
    "# list of the Python keywords.\n",
    "\n",
    "\n",
    "# Here is a list of the Python keywords.\n",
    "\n",
    "False,               class,              from,                or,\n",
    "None,                continue,            global,              pass,\n",
    "True,                def,                 if                  raise,\n",
    "and,                 del,                 import,             return,\n",
    "as,                 elif,               in,                  try,\n",
    "assert,              else,                is,                  while,\n",
    "async,               except,             lambda,              with,\n",
    "await,               finally,             nonlocal,            yield,\n",
    "break,               for,                 not. "
   ]
  },
  {
   "cell_type": "code",
   "execution_count": 1,
   "id": "9b8a53fd-76fa-49e6-9edf-bd3f2856cb5e",
   "metadata": {},
   "outputs": [
    {
     "name": "stdout",
     "output_type": "stream",
     "text": [
      "The number is equals to 100\n"
     ]
    }
   ],
   "source": [
    "# Examples of using if, elif and else in a program.\n",
    "a = 100\n",
    "if a > 100:\n",
    "    print(\"This block will be executed if a is greater than 100\")\n",
    "elif a < 100:\n",
    "    print(\"This block will be executed if a is lesser than 100\")\n",
    "else:\n",
    "    print(\"The number is equals to 100\")"
   ]
  },
  {
   "cell_type": "code",
   "execution_count": 3,
   "id": "65bf078c-ce3f-41a5-be96-3d88c8639990",
   "metadata": {},
   "outputs": [
    {
     "name": "stdout",
     "output_type": "stream",
     "text": [
      "get out of the bar\n"
     ]
    }
   ],
   "source": [
    "age = 17\n",
    "if age >= 18:\n",
    "    print(\"You will be served alcohal\")\n",
    "else:\n",
    "    print(\"get out of the bar\")"
   ]
  },
  {
   "cell_type": "markdown",
   "id": "dc85e0d9-b5cd-4f3f-8993-10a6140ab9f5",
   "metadata": {},
   "source": [
    "# 3. Compare and contrast mutable and immutable objects in Python with examples.\n",
    "\n",
    "# Mutable vs Immutable Objects in Python\n",
    "\n",
    "# In Python, objects can be classified as either mutable or immutable. This classification is based on whether the object's state can be modified after it is created.\n",
    "\n",
    "# Mutable Objects are those whose state or content can be changed after they are created.Common examples include lists, dictionaries, and sets."
   ]
  },
  {
   "cell_type": "code",
   "execution_count": null,
   "id": "550d4e7d-a12b-47fd-a6e7-874c9396faf8",
   "metadata": {},
   "outputs": [],
   "source": [
    "# Example:\n",
    "list_cont = [1, 2, 3, 4.3, 3+5j, True, \"Ajay\"]\n",
    "list_cont"
   ]
  },
  {
   "cell_type": "code",
   "execution_count": 7,
   "id": "8527076f-ea32-431d-addd-9632286664b6",
   "metadata": {},
   "outputs": [
    {
     "data": {
      "text/plain": [
       "2"
      ]
     },
     "execution_count": 7,
     "metadata": {},
     "output_type": "execute_result"
    }
   ],
   "source": [
    "list_cont[1]"
   ]
  },
  {
   "cell_type": "markdown",
   "id": "4e0b0211-e1c7-40f4-85cd-b0f31b01a966",
   "metadata": {},
   "source": [
    "# Immutable Objects are those whose state or content cannot be changed after they are created. Common examples include strings, tuples, and integers.\n",
    "# Example:\n",
    "# my_string = \"Hello\"\n",
    "    # Attempting to change a character will result in an error\n",
    "    # my_string[0] = 'h'  # TypeError: 'str' object does not support item assignment"
   ]
  },
  {
   "cell_type": "markdown",
   "id": "ed2aef9d-e98a-46b8-a07b-e1f2860ed3be",
   "metadata": {},
   "source": [
    "# 4. Discuss the different types of operators in Python and provide examples of how they are used.\n",
    "\n",
    "# The different types of operators in python are as follows:\n",
    "\n",
    "# 1. Arithmetic Operators: they are used to perform mathematical operations such as addition, subtraction, multiplication, and division etc."
   ]
  },
  {
   "cell_type": "code",
   "execution_count": 2,
   "id": "0cb707b5-4169-4773-9942-6d6e983baf68",
   "metadata": {},
   "outputs": [
    {
     "name": "stdout",
     "output_type": "stream",
     "text": [
      "13\n"
     ]
    }
   ],
   "source": [
    "# Examples of Arithmetic operators\n",
    "a = 10\n",
    "b = 3\n",
    "# Addition\n",
    "print(a + b)"
   ]
  },
  {
   "cell_type": "code",
   "execution_count": 3,
   "id": "3005b7d4-f1c4-43c4-a6e1-c1ff2e3a92db",
   "metadata": {},
   "outputs": [
    {
     "name": "stdout",
     "output_type": "stream",
     "text": [
      "7\n"
     ]
    }
   ],
   "source": [
    "# Subtraction\n",
    "print(a - b)"
   ]
  },
  {
   "cell_type": "code",
   "execution_count": 4,
   "id": "46bb12c6-535f-4119-af54-88f8c453020c",
   "metadata": {},
   "outputs": [
    {
     "name": "stdout",
     "output_type": "stream",
     "text": [
      "30\n"
     ]
    }
   ],
   "source": [
    "# Multiplication\n",
    "print(a * b)"
   ]
  },
  {
   "cell_type": "code",
   "execution_count": 5,
   "id": "321dc0f8-a9cd-416b-97a4-9aab8c7a63e2",
   "metadata": {},
   "outputs": [
    {
     "name": "stdout",
     "output_type": "stream",
     "text": [
      "3.3333333333333335\n"
     ]
    }
   ],
   "source": [
    "# Division\n",
    "print(a / b)"
   ]
  },
  {
   "cell_type": "code",
   "execution_count": 6,
   "id": "899450b3-14f0-47d3-b94d-1611d15c929a",
   "metadata": {},
   "outputs": [
    {
     "name": "stdout",
     "output_type": "stream",
     "text": [
      "3\n"
     ]
    }
   ],
   "source": [
    "# Floor Division\n",
    "print(a // b)"
   ]
  },
  {
   "cell_type": "code",
   "execution_count": 7,
   "id": "d18c6f2b-922c-4d32-802e-be724694ec8b",
   "metadata": {},
   "outputs": [
    {
     "name": "stdout",
     "output_type": "stream",
     "text": [
      "1\n"
     ]
    }
   ],
   "source": [
    "# Modulus\n",
    "print(a % b)"
   ]
  },
  {
   "cell_type": "code",
   "execution_count": 8,
   "id": "9e82af66-756f-4d5f-b000-c3dac9f8cb1b",
   "metadata": {},
   "outputs": [
    {
     "name": "stdout",
     "output_type": "stream",
     "text": [
      "1000\n"
     ]
    }
   ],
   "source": [
    "# Exponentiation\n",
    "print(a ** b)"
   ]
  },
  {
   "cell_type": "markdown",
   "id": "3836a244-4ab6-42fb-b073-262820511506",
   "metadata": {},
   "source": [
    "# Assignment operators: they are used to assign values to variables."
   ]
  },
  {
   "cell_type": "code",
   "execution_count": 11,
   "id": "b102a6e6-9867-40e7-8f56-b328f5831769",
   "metadata": {},
   "outputs": [
    {
     "name": "stdout",
     "output_type": "stream",
     "text": [
      "8\n"
     ]
    }
   ],
   "source": [
    "a = 5\n",
    "# Addition Assignment\n",
    "a += 3\n",
    "print(a)"
   ]
  },
  {
   "cell_type": "code",
   "execution_count": 12,
   "id": "340a43cc-439c-4eea-9595-e4c32eaeea23",
   "metadata": {},
   "outputs": [
    {
     "name": "stdout",
     "output_type": "stream",
     "text": [
      "6\n"
     ]
    }
   ],
   "source": [
    "# Subtraction Assignment\n",
    "a -= 2\n",
    "print(a)"
   ]
  },
  {
   "cell_type": "code",
   "execution_count": 13,
   "id": "98966629-3d22-477b-badd-fddb61a4e863",
   "metadata": {},
   "outputs": [
    {
     "name": "stdout",
     "output_type": "stream",
     "text": [
      "12\n"
     ]
    }
   ],
   "source": [
    "# Multiplication Assignment\n",
    "a *= 2\n",
    "print(a)"
   ]
  },
  {
   "cell_type": "code",
   "execution_count": 14,
   "id": "5166612e-c298-45ac-b192-d0dba3663fd1",
   "metadata": {},
   "outputs": [
    {
     "name": "stdout",
     "output_type": "stream",
     "text": [
      "4.0\n"
     ]
    }
   ],
   "source": [
    "# Division Assignment\n",
    "a /= 3\n",
    "print(a)"
   ]
  },
  {
   "cell_type": "markdown",
   "id": "4cfa2d59-bd31-47de-b01a-5a22072bd0a8",
   "metadata": {},
   "source": [
    "# Comparison operators: they compare two values and return a boolean result (True or False)."
   ]
  },
  {
   "cell_type": "code",
   "execution_count": 15,
   "id": "10dc968c-61ac-4739-8a79-8cffccd7a909",
   "metadata": {},
   "outputs": [
    {
     "name": "stdout",
     "output_type": "stream",
     "text": [
      "False\n"
     ]
    }
   ],
   "source": [
    "a = 10\n",
    "b = 20\n",
    "# Equal to\n",
    "print(a == b)"
   ]
  },
  {
   "cell_type": "code",
   "execution_count": 16,
   "id": "bcdd7f5d-a40c-46f6-bc1c-e2756924c5c9",
   "metadata": {},
   "outputs": [
    {
     "name": "stdout",
     "output_type": "stream",
     "text": [
      "True\n"
     ]
    }
   ],
   "source": [
    "# Not equal to\n",
    "print(a != b)"
   ]
  },
  {
   "cell_type": "code",
   "execution_count": 17,
   "id": "c710043f-c80f-42a3-b969-e6e1bd302cf3",
   "metadata": {},
   "outputs": [
    {
     "name": "stdout",
     "output_type": "stream",
     "text": [
      "False\n"
     ]
    }
   ],
   "source": [
    "# Greater than\n",
    "print(a > b)"
   ]
  },
  {
   "cell_type": "code",
   "execution_count": 18,
   "id": "b08ed13e-62d5-436d-9ca2-8a8fac7e9754",
   "metadata": {},
   "outputs": [
    {
     "name": "stdout",
     "output_type": "stream",
     "text": [
      "True\n"
     ]
    }
   ],
   "source": [
    "# Less than\n",
    "print(a < b)"
   ]
  },
  {
   "cell_type": "code",
   "execution_count": 19,
   "id": "42c7c1ce-4aa7-424b-8bde-1615ea22dec9",
   "metadata": {},
   "outputs": [
    {
     "name": "stdout",
     "output_type": "stream",
     "text": [
      "False\n"
     ]
    }
   ],
   "source": [
    "# Greater than or equal to\n",
    "print(a >= b)"
   ]
  },
  {
   "cell_type": "code",
   "execution_count": 20,
   "id": "e536905d-7399-431e-8875-765abbb38596",
   "metadata": {},
   "outputs": [
    {
     "name": "stdout",
     "output_type": "stream",
     "text": [
      "True\n"
     ]
    }
   ],
   "source": [
    "# Less than or equal to\n",
    "print(a <= b)"
   ]
  },
  {
   "cell_type": "markdown",
   "id": "f8940371-37af-4de3-8caa-6a5273789913",
   "metadata": {},
   "source": [
    "# Logical operators: they are used to combine conditional statements."
   ]
  },
  {
   "cell_type": "code",
   "execution_count": 24,
   "id": "a7fbfca7-21c2-49e9-ac16-ad1f75bbcc5a",
   "metadata": {},
   "outputs": [],
   "source": [
    "a = True\n",
    "b = False"
   ]
  },
  {
   "cell_type": "code",
   "execution_count": 25,
   "id": "1e05b0b2-cab9-476e-bd07-accd30fef1ba",
   "metadata": {},
   "outputs": [
    {
     "name": "stdout",
     "output_type": "stream",
     "text": [
      "False\n"
     ]
    }
   ],
   "source": [
    "# Logical AND\n",
    "print(a and b)"
   ]
  },
  {
   "cell_type": "code",
   "execution_count": 26,
   "id": "82383090-b1c5-45c0-b73c-2d71539214e2",
   "metadata": {},
   "outputs": [
    {
     "name": "stdout",
     "output_type": "stream",
     "text": [
      "True\n"
     ]
    }
   ],
   "source": [
    "# Logical OR\n",
    "print(a or b)"
   ]
  },
  {
   "cell_type": "code",
   "execution_count": 27,
   "id": "66af6ae0-b826-43b3-8fb5-21da5384b109",
   "metadata": {},
   "outputs": [
    {
     "name": "stdout",
     "output_type": "stream",
     "text": [
      "False\n"
     ]
    }
   ],
   "source": [
    "# Logical NOT\n",
    "print(not a)"
   ]
  },
  {
   "cell_type": "markdown",
   "id": "c5c6f3f9-da71-477b-8c2e-b9075c5f79a2",
   "metadata": {},
   "source": [
    "# Bitwise operators perform operations on binary numbers."
   ]
  },
  {
   "cell_type": "code",
   "execution_count": 28,
   "id": "5011c1ff-8467-49d5-9ed2-e9088596d7b5",
   "metadata": {},
   "outputs": [],
   "source": [
    "a = 10  # Binary: 1010\n",
    "b = 4   # Binary: 0100"
   ]
  },
  {
   "cell_type": "code",
   "execution_count": 29,
   "id": "d154f398-8068-4ba5-8d4b-bf156c563582",
   "metadata": {},
   "outputs": [
    {
     "name": "stdout",
     "output_type": "stream",
     "text": [
      "0\n"
     ]
    }
   ],
   "source": [
    "# Bitwise AND\n",
    "print(a & b)"
   ]
  },
  {
   "cell_type": "code",
   "execution_count": 30,
   "id": "04ac1fcb-3424-47b3-b091-d734d2acb3d3",
   "metadata": {},
   "outputs": [
    {
     "name": "stdout",
     "output_type": "stream",
     "text": [
      "14\n"
     ]
    }
   ],
   "source": [
    "# Bitwise OR\n",
    "print(a | b)"
   ]
  },
  {
   "cell_type": "code",
   "execution_count": 31,
   "id": "a4ee0b76-a0e7-4a14-9624-e091261a3bc9",
   "metadata": {},
   "outputs": [
    {
     "name": "stdout",
     "output_type": "stream",
     "text": [
      "14\n"
     ]
    }
   ],
   "source": [
    "# Bitwise XOR\n",
    "print(a ^ b)"
   ]
  },
  {
   "cell_type": "code",
   "execution_count": 32,
   "id": "1f3e134e-01fd-4b73-b018-cb87b85d87d5",
   "metadata": {},
   "outputs": [
    {
     "name": "stdout",
     "output_type": "stream",
     "text": [
      "-11\n"
     ]
    }
   ],
   "source": [
    "# Bitwise NOT\n",
    "print(~a)"
   ]
  },
  {
   "cell_type": "code",
   "execution_count": 33,
   "id": "9e4f9888-3626-43fd-98a0-b496843ecc6f",
   "metadata": {},
   "outputs": [
    {
     "name": "stdout",
     "output_type": "stream",
     "text": [
      "40\n"
     ]
    }
   ],
   "source": [
    "# Bitwise left shift\n",
    "print(a << 2)"
   ]
  },
  {
   "cell_type": "code",
   "execution_count": 34,
   "id": "e7047912-a0f1-4ee3-8e9f-277448185af3",
   "metadata": {},
   "outputs": [
    {
     "name": "stdout",
     "output_type": "stream",
     "text": [
      "2\n"
     ]
    }
   ],
   "source": [
    "# Bitwise right shift\n",
    "print(a >> 2)"
   ]
  },
  {
   "cell_type": "markdown",
   "id": "eff2e30f-bf2b-4f19-8929-364e5069aea1",
   "metadata": {},
   "source": [
    "# Identity operators: they compare the memory locations of two objects."
   ]
  },
  {
   "cell_type": "code",
   "execution_count": 45,
   "id": "0d59e6ea-12cb-4e42-b689-d99021fe8daf",
   "metadata": {},
   "outputs": [],
   "source": [
    "a = 10\n",
    "b = 10"
   ]
  },
  {
   "cell_type": "code",
   "execution_count": 46,
   "id": "2e9f44da-03dc-4ea4-98ef-f2c220945933",
   "metadata": {},
   "outputs": [
    {
     "name": "stdout",
     "output_type": "stream",
     "text": [
      "True\n"
     ]
    }
   ],
   "source": [
    "# is\n",
    "print(a is b)"
   ]
  },
  {
   "cell_type": "code",
   "execution_count": 47,
   "id": "f13e5543-bf4c-46ae-b477-7a7cc73c62e7",
   "metadata": {},
   "outputs": [
    {
     "name": "stdout",
     "output_type": "stream",
     "text": [
      "False\n"
     ]
    }
   ],
   "source": [
    "# is not\n",
    "print(a is not b)"
   ]
  },
  {
   "cell_type": "markdown",
   "id": "8e8a827b-6123-427d-a990-e45aece54a01",
   "metadata": {},
   "source": [
    "# Membership operators test if a sequence is present in an object."
   ]
  },
  {
   "cell_type": "code",
   "execution_count": 48,
   "id": "8a6bc4da-8d18-4b01-9d5b-708e49976283",
   "metadata": {},
   "outputs": [],
   "source": [
    "a = [1, 2, 3, 4, 5]"
   ]
  },
  {
   "cell_type": "code",
   "execution_count": 49,
   "id": "e905dcfe-7a28-4cc5-8686-bf74e69ea0a2",
   "metadata": {},
   "outputs": [
    {
     "name": "stdout",
     "output_type": "stream",
     "text": [
      "True\n"
     ]
    }
   ],
   "source": [
    "# in\n",
    "print(3 in a)"
   ]
  },
  {
   "cell_type": "code",
   "execution_count": 50,
   "id": "501b2b05-71b1-4555-833b-9e36f6d4b728",
   "metadata": {},
   "outputs": [
    {
     "name": "stdout",
     "output_type": "stream",
     "text": [
      "True\n"
     ]
    }
   ],
   "source": [
    "# not in\n",
    "print(6 not in a)"
   ]
  },
  {
   "cell_type": "markdown",
   "id": "55021069-81af-4fe0-8612-feac04a7a089",
   "metadata": {
    "tags": []
   },
   "source": [
    "# 5. Explain the concept of type casting in Python with examples.\n",
    "# Type Casting in Python\n",
    "\n",
    "Type casting, also known as type conversion, is the process of converting a variable from one data type to another. There are two types of type casting in Python:\n",
    "\n",
    "# 1.Implicit Type Casting\n",
    "In implicit type casting, Python automatically converts one data type to another without any user intervention. This usually happens when performing operations that involve mixed data types."
   ]
  },
  {
   "cell_type": "code",
   "execution_count": 53,
   "id": "7c01b5b4-8899-4990-a6f1-11797315fdc9",
   "metadata": {},
   "outputs": [
    {
     "name": "stdout",
     "output_type": "stream",
     "text": [
      "13.5\n",
      "<class 'float'>\n"
     ]
    }
   ],
   "source": [
    "# Example:\n",
    "# Implicit Type Casting\n",
    "a = 10  # int\n",
    "b = 3.5  # float\n",
    "# Python automatically converts 'a' to float and performs the addition\n",
    "a = a + b\n",
    "print(a)  \n",
    "print(type(a))"
   ]
  },
  {
   "cell_type": "markdown",
   "id": "49a15d95-ad42-465d-80a8-e08e998cb82b",
   "metadata": {},
   "source": [
    "# 2.Explicit Type Casting\n",
    "In explicit type casting, the user manually converts one data type to another using built-in functions like int(), float(), str(), etc."
   ]
  },
  {
   "cell_type": "code",
   "execution_count": 54,
   "id": "f4bb96be-4e7c-4a46-9821-45f93445a317",
   "metadata": {},
   "outputs": [
    {
     "name": "stdout",
     "output_type": "stream",
     "text": [
      "5\n",
      "<class 'int'>\n"
     ]
    }
   ],
   "source": [
    "# Converting float to int\n",
    "a = 5.9\n",
    "b = int(a)\n",
    "print(b) \n",
    "print(type(b))"
   ]
  },
  {
   "cell_type": "code",
   "execution_count": 55,
   "id": "4762c628-cae8-42af-aefe-5b6bc9a90dd1",
   "metadata": {},
   "outputs": [
    {
     "name": "stdout",
     "output_type": "stream",
     "text": [
      "5.0\n",
      "<class 'float'>\n"
     ]
    }
   ],
   "source": [
    "# Converting int to float\n",
    "c = 5\n",
    "d = float(c)\n",
    "print(d)\n",
    "print(type(d))"
   ]
  },
  {
   "cell_type": "code",
   "execution_count": 56,
   "id": "64a63f56-ace1-46f4-95c7-ee187273598c",
   "metadata": {},
   "outputs": [
    {
     "name": "stdout",
     "output_type": "stream",
     "text": [
      "10\n",
      "<class 'str'>\n"
     ]
    }
   ],
   "source": [
    "# Converting int to string\n",
    "e = 10\n",
    "f = str(e)\n",
    "print(f)\n",
    "print(type(f))"
   ]
  },
  {
   "cell_type": "code",
   "execution_count": 57,
   "id": "e4477c89-fa3a-4d13-b137-dfd9a142c5fa",
   "metadata": {},
   "outputs": [
    {
     "name": "stdout",
     "output_type": "stream",
     "text": [
      "3.14\n",
      "<class 'float'>\n"
     ]
    }
   ],
   "source": [
    "# Converting string to float\n",
    "g = \"3.14\"\n",
    "h = float(g)\n",
    "print(h)\n",
    "print(type(h))"
   ]
  },
  {
   "cell_type": "code",
   "execution_count": 58,
   "id": "1a926af6-4e78-4c29-ae7a-2e45133abdf5",
   "metadata": {},
   "outputs": [
    {
     "name": "stdout",
     "output_type": "stream",
     "text": [
      "7\n",
      "<class 'int'>\n"
     ]
    }
   ],
   "source": [
    "# Converting string to int\n",
    "i = \"7\"\n",
    "j = int(i)\n",
    "print(j)\n",
    "print(type(j))"
   ]
  },
  {
   "cell_type": "markdown",
   "id": "6ba49767-8308-45cd-a495-7882b7b7b116",
   "metadata": {
    "tags": []
   },
   "source": [
    "# 6. How do conditional statements work in Python? Illustrate with examples.\n",
    "#Conditional statements: they are used to execute a specific block of code based on the truth value of a condition.\n",
    "#if\n",
    "#if else\n",
    "#if elif(elseif) else\n",
    "#nested if else\n",
    "\n",
    "# 1.`if` Statement: \n",
    "The `if` statement is used to test a specific condition. If the condition is true, the block of code inside the `if` statement is executed."
   ]
  },
  {
   "cell_type": "code",
   "execution_count": 59,
   "id": "d1028f0f-a75f-479a-9922-6f4e5c0c6c68",
   "metadata": {},
   "outputs": [
    {
     "name": "stdout",
     "output_type": "stream",
     "text": [
      "x is greater than 5\n"
     ]
    }
   ],
   "source": [
    "#Example:\n",
    "x = 10\n",
    "if x > 5:\n",
    "    print(\"x is greater than 5\")"
   ]
  },
  {
   "cell_type": "markdown",
   "id": "943f8e9c-1498-488f-a6be-d8348f546a9d",
   "metadata": {},
   "source": [
    "# 2. if-else Statement:\n",
    "It is used to test a condition and execute one block of code if the condition is true, and another block of code if the condition is false."
   ]
  },
  {
   "cell_type": "code",
   "execution_count": 60,
   "id": "9775a312-4ae3-469c-a6da-0331a44c98d0",
   "metadata": {},
   "outputs": [
    {
     "name": "stdout",
     "output_type": "stream",
     "text": [
      "x is not greater than 5\n"
     ]
    }
   ],
   "source": [
    "x = 3\n",
    "\n",
    "if x > 5:\n",
    "    print(\"x is greater than 5\")\n",
    "else:\n",
    "    print(\"x is not greater than 5\")"
   ]
  },
  {
   "cell_type": "markdown",
   "id": "1338be02-4a48-4a18-bdef-d415689b9c80",
   "metadata": {},
   "source": [
    "# 3. if-elif-else Statement\n",
    "The if-elif-else statement is used to test multiple conditions. The first condition that evaluates to true will have its corresponding block of code executed. If none of the conditions are true, the block of code inside the else statement is executed."
   ]
  },
  {
   "cell_type": "code",
   "execution_count": 61,
   "id": "67851008-895a-4ddb-ac94-e56be93dc613",
   "metadata": {},
   "outputs": [
    {
     "name": "stdout",
     "output_type": "stream",
     "text": [
      "x is greater than 5 but less than or equal to 10\n"
     ]
    }
   ],
   "source": [
    "x = 7\n",
    "\n",
    "if x > 10:\n",
    "    print(\"x is greater than 10\")\n",
    "elif x > 5:\n",
    "    print(\"x is greater than 5 but less than or equal to 10\")\n",
    "else:\n",
    "    print(\"x is 5 or less\")"
   ]
  },
  {
   "cell_type": "markdown",
   "id": "858478a1-ac3d-4911-af0d-06e4f9290b18",
   "metadata": {},
   "source": [
    "# 4. Nested if Statements\n",
    "You can use one if statement inside another if statement. This is called nesting."
   ]
  },
  {
   "cell_type": "code",
   "execution_count": 62,
   "id": "d6c1ddfe-a775-43e5-b492-4876db56b494",
   "metadata": {},
   "outputs": [
    {
     "name": "stdout",
     "output_type": "stream",
     "text": [
      "x is greater than 10\n",
      "x is not greater than 20\n"
     ]
    }
   ],
   "source": [
    "x = 15\n",
    "\n",
    "if x > 10:\n",
    "    print(\"x is greater than 10\")\n",
    "    if x > 20:\n",
    "        print(\"x is also greater than 20\")\n",
    "    else:\n",
    "        print(\"x is not greater than 20\")"
   ]
  },
  {
   "cell_type": "markdown",
   "id": "2a6d05f1-09bb-49d2-83e4-38fe0df8413d",
   "metadata": {},
   "source": [
    "# 7. Describe the different types of loops in Python and their use cases with examples.\n",
    "\n",
    "# Different Types of Loops in Python\n",
    "\n",
    "## 1.`for` Loop\n",
    "The `for` loop is used for iterating over a sequence (such as a list, tuple, dictionary, set, or string). This is less like the `for` keyword in other programming languages, and works more like an iterator method as found in other object-oriented programming languages.\n",
    "\n",
    "### Use Cases:\n",
    "- Iterating over a list of items\n",
    "- Iterating over a range of numbers\n",
    "- Iterating over characters in a string"
   ]
  },
  {
   "cell_type": "code",
   "execution_count": 63,
   "id": "01bc98b5-a51e-471d-95b1-e90f821f1c08",
   "metadata": {},
   "outputs": [
    {
     "name": "stdout",
     "output_type": "stream",
     "text": [
      "apple\n",
      "banana\n",
      "cherry\n"
     ]
    }
   ],
   "source": [
    "# Examples:\n",
    "# Iterating over a list\n",
    "fruits = [\"apple\", \"banana\", \"cherry\"]\n",
    "for fruit in fruits:\n",
    "    print(fruit)"
   ]
  },
  {
   "cell_type": "code",
   "execution_count": 64,
   "id": "78bd3df3-cd01-4ff2-9209-b8c08109c32d",
   "metadata": {},
   "outputs": [
    {
     "name": "stdout",
     "output_type": "stream",
     "text": [
      "0\n",
      "1\n",
      "2\n",
      "3\n",
      "4\n"
     ]
    }
   ],
   "source": [
    "# Iterating over a range of numbers\n",
    "for i in range(5):\n",
    "    print(i)"
   ]
  },
  {
   "cell_type": "code",
   "execution_count": 65,
   "id": "94f10fd1-24d9-456d-bbf0-f37595567538",
   "metadata": {},
   "outputs": [
    {
     "name": "stdout",
     "output_type": "stream",
     "text": [
      "h\n",
      "e\n",
      "l\n",
      "l\n",
      "o\n"
     ]
    }
   ],
   "source": [
    "# Iterating over characters in a string\n",
    "for char in \"hello\":\n",
    "    print(char)"
   ]
  },
  {
   "cell_type": "markdown",
   "id": "58c64a15-d119-41ad-9efe-c0bd33a3f6f1",
   "metadata": {},
   "source": [
    "# 2.while Loop\n",
    "The while loop is used to execute a block of code as long as a condition is true. It is useful when the number of iterations is not known beforehand.\n",
    "\n",
    "### Use Cases:\n",
    "- Repeating a block of code until a condition is met\n",
    "- Implementing infinite loops (with a break condition)\n",
    "- Waiting for user input"
   ]
  },
  {
   "cell_type": "code",
   "execution_count": 66,
   "id": "b434738b-8d79-41b2-a902-6c26d13f051f",
   "metadata": {},
   "outputs": [
    {
     "name": "stdout",
     "output_type": "stream",
     "text": [
      "0\n",
      "1\n",
      "2\n",
      "3\n",
      "4\n"
     ]
    }
   ],
   "source": [
    "# Repeating a block of code until a condition is met\n",
    "count = 0\n",
    "while count < 5:\n",
    "    print(count)\n",
    "    count += 1"
   ]
  }
 ],
 "metadata": {
  "kernelspec": {
   "display_name": "Python 3 (ipykernel)",
   "language": "python",
   "name": "python3"
  },
  "language_info": {
   "codemirror_mode": {
    "name": "ipython",
    "version": 3
   },
   "file_extension": ".py",
   "mimetype": "text/x-python",
   "name": "python",
   "nbconvert_exporter": "python",
   "pygments_lexer": "ipython3",
   "version": "3.10.8"
  }
 },
 "nbformat": 4,
 "nbformat_minor": 5
}
